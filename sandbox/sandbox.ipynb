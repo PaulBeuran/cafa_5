{
 "cells": [
  {
   "cell_type": "code",
   "execution_count": 1,
   "metadata": {},
   "outputs": [],
   "source": [
    "import networkx\n",
    "import obonet\n",
    "import numpy as np\n",
    "import pandas as pd\n",
    "from sklearn.preprocessing import MultiLabelBinarizer\n",
    "import torch\n",
    "from tqdm import tqdm\n",
    "\n",
    "from cafa_5.dataload import read_go_code_info_accr_weight_from_txt_as_df"
   ]
  },
  {
   "cell_type": "code",
   "execution_count": 2,
   "metadata": {},
   "outputs": [],
   "source": [
    "ia_w_df = read_go_code_info_accr_weight_from_txt_as_df(\"../kaggle/input/cafa-5-protein-function-prediction/IA.txt\")\n",
    "go_codes = sorted(ia_w_df[\"go_code\"].tolist())\n",
    "go_code_idx_map = {go_code:i for i, go_code in enumerate(go_codes)}\n",
    "go_code_graph = obonet.read_obo(\"../kaggle/input/cafa-5-protein-function-prediction/Train/go-basic.obo\")\n",
    "go_codes_incl_childs_mask = torch.from_numpy(networkx.adjacency_matrix(go_code_graph, go_codes, bool).toarray()).to(\"cuda\")\n",
    "go_codes_incl_childs_mask[list(range(len(go_codes))), list(range(len(go_codes)))] = True\n",
    "go_codes_reverse_top_sort = list(networkx.topological_sort(go_code_graph))\n",
    "go_codes_reverse_top_sort.reverse()"
   ]
  },
  {
   "cell_type": "code",
   "execution_count": 3,
   "metadata": {},
   "outputs": [],
   "source": [
    "from cafa_5.model import FFN\n",
    "\n",
    "ffn = FFN(\n",
    "    len(go_codes),\n",
    "    len(go_codes),\n",
    "    torch.nn.Sigmoid(),\n",
    "    num_layers = 1,\n",
    "    hidden_size = 2048,\n",
    "    hidden_activation = torch.nn.ReLU(),\n",
    "    dropout = 0.1,\n",
    "    residual_connections = True,\n",
    "    batch_normalization = True\n",
    ").to(\"cuda\")\n",
    "ffn.train()\n",
    "optimizer = torch.optim.SGD(ffn.parameters(), lr=1)\n",
    "loss = torch.nn.BCELoss()"
   ]
  },
  {
   "cell_type": "code",
   "execution_count": 7,
   "metadata": {},
   "outputs": [
    {
     "name": "stderr",
     "output_type": "stream",
     "text": [
      "Loss: 0.7162948846817017:   2%|▏         | 23/1000 [01:59<1:24:44,  5.20s/it]\n"
     ]
    },
    {
     "ename": "KeyboardInterrupt",
     "evalue": "",
     "output_type": "error",
     "traceback": [
      "\u001b[0;31m---------------------------------------------------------------------------\u001b[0m",
      "\u001b[0;31mKeyboardInterrupt\u001b[0m                         Traceback (most recent call last)",
      "Cell \u001b[0;32mIn[7], line 7\u001b[0m\n\u001b[1;32m      5\u001b[0m \u001b[39mfor\u001b[39;00m go_code \u001b[39min\u001b[39;00m go_codes_reverse_top_sort:\n\u001b[1;32m      6\u001b[0m     go_code_idx \u001b[39m=\u001b[39m go_code_idx_map[go_code]\n\u001b[0;32m----> 7\u001b[0m     go_codes_new_probs[:, go_code_idx] \u001b[39m=\u001b[39m go_codes_probs[:, go_codes_incl_childs_mask[go_code_idx]]\u001b[39m.\u001b[39;49mmax(dim\u001b[39m=\u001b[39;49m\u001b[39m1\u001b[39;49m)\u001b[39m.\u001b[39mvalues\n\u001b[1;32m      9\u001b[0m optimizer\u001b[39m.\u001b[39mzero_grad()\n\u001b[1;32m     10\u001b[0m go_codes_infer_probs \u001b[39m=\u001b[39m ffn(go_codes_probs)\n",
      "\u001b[0;31mKeyboardInterrupt\u001b[0m: "
     ]
    }
   ],
   "source": [
    "for step in (pbar := tqdm(range(1000))):\n",
    "\n",
    "    go_codes_probs = torch.rand((32, len(go_codes))).to(\"cuda\")\n",
    "    go_codes_new_probs = torch.zeros_like(go_codes_probs)\n",
    "    for go_code in go_codes_reverse_top_sort:\n",
    "        go_code_idx = go_code_idx_map[go_code]\n",
    "        go_codes_new_probs[:, go_code_idx] = go_codes_probs[:, go_codes_incl_childs_mask[go_code_idx]].max(dim=1).values\n",
    "\n",
    "    optimizer.zero_grad()\n",
    "    go_codes_infer_probs = ffn(go_codes_probs)\n",
    "    step_loss = loss(go_codes_infer_probs, go_codes_new_probs)\n",
    "    step_loss.backward()\n",
    "    pbar.set_description(f\"Loss: {step_loss}\")"
   ]
  },
  {
   "cell_type": "code",
   "execution_count": 8,
   "metadata": {},
   "outputs": [
    {
     "data": {
      "text/plain": [
       "tensor([[0.3986, 0.9084, 0.4510,  ..., 0.9754, 0.9229, 0.9402],\n",
       "        [0.2172, 0.8448, 0.6664,  ..., 0.9633, 0.9432, 0.9432],\n",
       "        [0.2763, 0.9230, 0.9553,  ..., 0.9708, 0.9496, 0.9633],\n",
       "        ...,\n",
       "        [0.9279, 0.9889, 0.9889,  ..., 0.9959, 0.9889, 0.9889],\n",
       "        [0.3017, 0.7298, 0.7817,  ..., 0.9862, 0.9862, 0.9862],\n",
       "        [0.2457, 0.9363, 0.9363,  ..., 0.9900, 0.9363, 0.9522]],\n",
       "       device='cuda:0')"
      ]
     },
     "execution_count": 8,
     "metadata": {},
     "output_type": "execute_result"
    }
   ],
   "source": [
    "go_codes_probs"
   ]
  },
  {
   "cell_type": "code",
   "execution_count": 9,
   "metadata": {},
   "outputs": [
    {
     "data": {
      "text/plain": [
       "tensor([[0.3986, 0.9084, 0.4510,  ..., 0.9754, 0.9229, 0.9402],\n",
       "        [0.2172, 0.8448, 0.6664,  ..., 0.9633, 0.9432, 0.9432],\n",
       "        [0.2763, 0.9230, 0.9553,  ..., 0.9708, 0.9496, 0.9633],\n",
       "        ...,\n",
       "        [0.9279, 0.9889, 0.9889,  ..., 0.9959, 0.9889, 0.9889],\n",
       "        [0.3017, 0.7298, 0.7817,  ..., 0.9862, 0.9862, 0.9862],\n",
       "        [0.2457, 0.9363, 0.9363,  ..., 0.9900, 0.9363, 0.9522]],\n",
       "       device='cuda:0')"
      ]
     },
     "execution_count": 9,
     "metadata": {},
     "output_type": "execute_result"
    }
   ],
   "source": [
    "go_codes_new_probs"
   ]
  },
  {
   "cell_type": "code",
   "execution_count": null,
   "metadata": {},
   "outputs": [],
   "source": []
  }
 ],
 "metadata": {
  "kernelspec": {
   "display_name": "cafa_5",
   "language": "python",
   "name": "python3"
  },
  "language_info": {
   "codemirror_mode": {
    "name": "ipython",
    "version": 3
   },
   "file_extension": ".py",
   "mimetype": "text/x-python",
   "name": "python",
   "nbconvert_exporter": "python",
   "pygments_lexer": "ipython3",
   "version": "3.10.10"
  },
  "orig_nbformat": 4
 },
 "nbformat": 4,
 "nbformat_minor": 2
}
