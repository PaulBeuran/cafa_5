{
 "cells": [
  {
   "cell_type": "code",
   "execution_count": 1,
   "metadata": {},
   "outputs": [],
   "source": [
    "import torch\n",
    "\n",
    "from cafa_5.dataset import CAFA5Dataset, collate_data_dict\n",
    "from cafa_5.model import CAFA5EmbeddingsFFN\n",
    "\n",
    "device = \"cuda\" if torch.cuda.is_available() else \"cpu\""
   ]
  },
  {
   "cell_type": "code",
   "execution_count": 4,
   "metadata": {},
   "outputs": [
    {
     "data": {
      "text/plain": [
       "'MNSVTVSHAPYTITYHDDWEPVMSQLVEFYNEVASWLLRDETSPIPDKFFIQLKQPLRNKRVCVCGIDPYPKDGTGVPFESPNFTKKSIKEIASSISRLTGVIDYKGYNLNIIDGVIPWNYYLSCKLGETKSHAIYWDKISKLLLQHITKHVSVLYCLGKTDFSNIRAKLESPVTTIVGYHPAARDRQFEKDRSFEIINVLLELDNKVPINWAQGFIY'"
      ]
     },
     "execution_count": 4,
     "metadata": {},
     "output_type": "execute_result"
    }
   ],
   "source": [
    "cafa_5_train_data.prots_amino_acids[0]"
   ]
  },
  {
   "cell_type": "code",
   "execution_count": 2,
   "metadata": {},
   "outputs": [
    {
     "data": {
      "text/plain": [
       "{'id': 'P20536',\n",
       " 'data': {'t5_embeddings': tensor([[ 0.0495, -0.0329,  0.0325,  ..., -0.0435,  0.0965,  0.0731]]),\n",
       "  'protbert_embeddings': tensor([[ 0.1554,  0.0354,  0.0897,  ..., -0.0395, -0.0736,  0.0459]]),\n",
       "  'esm2_embeddings': tensor([[-0.0069,  0.0079,  0.0027,  ...,  0.0257, -0.0288, -0.0095]])},\n",
       " 'go_codes': tensor([[0, 0, 0,  ..., 0, 0, 0]])}"
      ]
     },
     "execution_count": 2,
     "metadata": {},
     "output_type": "execute_result"
    }
   ],
   "source": [
    "cafa_5_train_data = CAFA5Dataset(\n",
    "    prots_amino_acids_fasta_path = \"../kaggle/input/cafa-5-protein-function-prediction/Train/train_sequences.fasta\",\n",
    "    prots_go_codes_tsv_path = \"../kaggle/input/cafa-5-protein-function-prediction/Train/train_terms.tsv\",\n",
    "    go_codes_info_accr_weights_txt_path = \"../kaggle/input/cafa-5-protein-function-prediction/IA.txt\",\n",
    "    go_code_graph_obo_path = \"../kaggle/input/cafa-5-protein-function-prediction/Train/go-basic.obo\",\n",
    "    prots_t5_embeds_npy_path = \"../kaggle/input/t5embeds/train_embeds.npy\",\n",
    "    prots_protbert_embeds_npy_path = \"../kaggle/input/protbert-embeddings-for-cafa5/train_embeddings.npy\",\n",
    "    prots_esm2_embeds_npy_path = \"../kaggle/input/4637427/train_embeds_esm2_t36_3B_UR50D.npy\"\n",
    ")\n",
    "cafa_5_train_data[0]"
   ]
  },
  {
   "cell_type": "code",
   "execution_count": 3,
   "metadata": {},
   "outputs": [
    {
     "data": {
      "text/plain": [
       "CAFA5EmbeddingsFFN(\n",
       "  (ffn): FFN(\n",
       "    (hidden_activation): ReLU()\n",
       "    (output_activation): Sigmoid()\n",
       "    (ffn): ModuleDict(\n",
       "      (linear_0): Linear(in_features=4608, out_features=2048, bias=True)\n",
       "      (batch_norm_0): BatchNorm1d(2048, eps=1e-05, momentum=0.1, affine=True, track_running_stats=True)\n",
       "      (activation_0): ReLU()\n",
       "      (dropout_0): Dropout(p=0.1, inplace=False)\n",
       "      (linear_1): Linear(in_features=2048, out_features=2048, bias=True)\n",
       "      (batch_norm_1): BatchNorm1d(2048, eps=1e-05, momentum=0.1, affine=True, track_running_stats=True)\n",
       "      (activation_1): ReLU()\n",
       "      (dropout_1): Dropout(p=0.1, inplace=False)\n",
       "      (linear_2): Linear(in_features=2048, out_features=2048, bias=True)\n",
       "      (batch_norm_2): BatchNorm1d(2048, eps=1e-05, momentum=0.1, affine=True, track_running_stats=True)\n",
       "      (activation_2): ReLU()\n",
       "      (dropout_2): Dropout(p=0.1, inplace=False)\n",
       "      (linear_3): Linear(in_features=2048, out_features=2048, bias=True)\n",
       "      (batch_norm_3): BatchNorm1d(2048, eps=1e-05, momentum=0.1, affine=True, track_running_stats=True)\n",
       "      (activation_3): ReLU()\n",
       "      (dropout_3): Dropout(p=0.1, inplace=False)\n",
       "      (linear_4): Linear(in_features=2048, out_features=43248, bias=True)\n",
       "      (activation_4): Sigmoid()\n",
       "    )\n",
       "    (bn): BatchNorm1d(4608, eps=1e-05, momentum=0.1, affine=True, track_running_stats=True)\n",
       "  )\n",
       ")"
      ]
     },
     "metadata": {},
     "output_type": "display_data"
    },
    {
     "name": "stdout",
     "output_type": "stream",
     "text": [
      "# of parameters: 110669040\n"
     ]
    },
    {
     "name": "stderr",
     "output_type": "stream",
     "text": [
      "- Epoch: 0, Mode: train, Loss: 0.004203 (0.003027),F-score : 0.205661 (0.345917): 100%|██████████| 4001/4001 [03:08<00:00, 21.24it/s]\n",
      "- Epoch: 0, Mode: validation, Loss: 0.003339, F-score : 0.261915: 100%|██████████| 445/445 [03:29<00:00,  2.12it/s]  \n",
      "- Epoch: 1, Mode: train, Loss: 0.003406 (0.002312),F-score : 0.235848 (0.353965):  18%|█▊        | 732/4001 [00:57<04:16, 12.75it/s]\n"
     ]
    },
    {
     "ename": "KeyboardInterrupt",
     "evalue": "",
     "output_type": "error",
     "traceback": [
      "\u001b[0;31m---------------------------------------------------------------------------\u001b[0m",
      "\u001b[0;31mKeyboardInterrupt\u001b[0m                         Traceback (most recent call last)",
      "Cell \u001b[0;32mIn[3], line 18\u001b[0m\n\u001b[1;32m     15\u001b[0m \u001b[39mprint\u001b[39m(\u001b[39m\"\u001b[39m\u001b[39m# of parameters:\u001b[39m\u001b[39m\"\u001b[39m, n_params)\n\u001b[1;32m     17\u001b[0m \u001b[39mif\u001b[39;00m \u001b[39mTrue\u001b[39;00m:\n\u001b[0;32m---> 18\u001b[0m     cafa_5_model\u001b[39m.\u001b[39;49mfit(\n\u001b[1;32m     19\u001b[0m         cafa_5_train_data,\n\u001b[1;32m     20\u001b[0m         epochs\u001b[39m=\u001b[39;49m\u001b[39m64\u001b[39;49m,\n\u001b[1;32m     21\u001b[0m         batch_size\u001b[39m=\u001b[39;49m\u001b[39m32\u001b[39;49m,\n\u001b[1;32m     22\u001b[0m         collate_fn \u001b[39m=\u001b[39;49m collate_data_dict,\n\u001b[1;32m     23\u001b[0m         loss_fn \u001b[39m=\u001b[39;49m torch\u001b[39m.\u001b[39;49mnn\u001b[39m.\u001b[39;49mBCELoss(),\n\u001b[1;32m     24\u001b[0m         optimizer_type \u001b[39m=\u001b[39;49m torch\u001b[39m.\u001b[39;49moptim\u001b[39m.\u001b[39;49mAdam,\n\u001b[1;32m     25\u001b[0m         optimizer_kwargs \u001b[39m=\u001b[39;49m {\u001b[39m\"\u001b[39;49m\u001b[39mamsgrad\u001b[39;49m\u001b[39m\"\u001b[39;49m: \u001b[39mTrue\u001b[39;49;00m},\n\u001b[1;32m     26\u001b[0m         validation_size \u001b[39m=\u001b[39;49m \u001b[39m0.1\u001b[39;49m,\n\u001b[1;32m     27\u001b[0m         verbose \u001b[39m=\u001b[39;49m \u001b[39mTrue\u001b[39;49;00m,\n\u001b[1;32m     28\u001b[0m         checkpoint_save_folder_path \u001b[39m=\u001b[39;49m \u001b[39mf\u001b[39;49m\u001b[39m\"\u001b[39;49m\u001b[39m../kaggle/weights/\u001b[39;49m\u001b[39m{\u001b[39;49;00m\u001b[39m0\u001b[39;49m\u001b[39m}\u001b[39;49;00m\u001b[39m_ffn/\u001b[39;49m\u001b[39m\"\u001b[39;49m\n\u001b[1;32m     29\u001b[0m )\n",
      "File \u001b[0;32m~/repositories/cafa_5/cafa_5/model.py:173\u001b[0m, in \u001b[0;36mTorchCAFA5Model.fit\u001b[0;34m(self, cafa_5_dataset, epochs, batch_size, collate_fn, loss_fn, loss_kwargs, optimizer_type, optimizer_kwargs, lr_scheduler_type, lr_scheduler_kwargs, validation_size, verbose, checkpoint_save_folder_path)\u001b[0m\n\u001b[1;32m    170\u001b[0m         val_data_loader_ \u001b[39m=\u001b[39m val_data_loader\n\u001b[1;32m    172\u001b[0m \u001b[39m# Train step by bach\u001b[39;00m\n\u001b[0;32m--> 173\u001b[0m \u001b[39mfor\u001b[39;00m i, data_batch \u001b[39min\u001b[39;00m \u001b[39menumerate\u001b[39m(train_data_loader_):\n\u001b[1;32m    174\u001b[0m \n\u001b[1;32m    175\u001b[0m     \u001b[39m# Transfer the data to device\u001b[39;00m\n\u001b[1;32m    176\u001b[0m     data_batch \u001b[39m=\u001b[39m tensor_nested_dict_to_device(\n\u001b[1;32m    177\u001b[0m         data_batch, \u001b[39mself\u001b[39m\u001b[39m.\u001b[39mdevice\n\u001b[1;32m    178\u001b[0m     )\n\u001b[1;32m    180\u001b[0m     \u001b[39m# Reset the gradient\u001b[39;00m\n",
      "File \u001b[0;32m~/anaconda3/envs/cafa_5/lib/python3.10/site-packages/tqdm/std.py:1178\u001b[0m, in \u001b[0;36mtqdm.__iter__\u001b[0;34m(self)\u001b[0m\n\u001b[1;32m   1175\u001b[0m time \u001b[39m=\u001b[39m \u001b[39mself\u001b[39m\u001b[39m.\u001b[39m_time\n\u001b[1;32m   1177\u001b[0m \u001b[39mtry\u001b[39;00m:\n\u001b[0;32m-> 1178\u001b[0m     \u001b[39mfor\u001b[39;00m obj \u001b[39min\u001b[39;00m iterable:\n\u001b[1;32m   1179\u001b[0m         \u001b[39myield\u001b[39;00m obj\n\u001b[1;32m   1180\u001b[0m         \u001b[39m# Update and possibly print the progressbar.\u001b[39;00m\n\u001b[1;32m   1181\u001b[0m         \u001b[39m# Note: does not call self.update(1) for speed optimisation.\u001b[39;00m\n",
      "File \u001b[0;32m~/anaconda3/envs/cafa_5/lib/python3.10/site-packages/torch/utils/data/dataloader.py:633\u001b[0m, in \u001b[0;36m_BaseDataLoaderIter.__next__\u001b[0;34m(self)\u001b[0m\n\u001b[1;32m    630\u001b[0m \u001b[39mif\u001b[39;00m \u001b[39mself\u001b[39m\u001b[39m.\u001b[39m_sampler_iter \u001b[39mis\u001b[39;00m \u001b[39mNone\u001b[39;00m:\n\u001b[1;32m    631\u001b[0m     \u001b[39m# TODO(https://github.com/pytorch/pytorch/issues/76750)\u001b[39;00m\n\u001b[1;32m    632\u001b[0m     \u001b[39mself\u001b[39m\u001b[39m.\u001b[39m_reset()  \u001b[39m# type: ignore[call-arg]\u001b[39;00m\n\u001b[0;32m--> 633\u001b[0m data \u001b[39m=\u001b[39m \u001b[39mself\u001b[39;49m\u001b[39m.\u001b[39;49m_next_data()\n\u001b[1;32m    634\u001b[0m \u001b[39mself\u001b[39m\u001b[39m.\u001b[39m_num_yielded \u001b[39m+\u001b[39m\u001b[39m=\u001b[39m \u001b[39m1\u001b[39m\n\u001b[1;32m    635\u001b[0m \u001b[39mif\u001b[39;00m \u001b[39mself\u001b[39m\u001b[39m.\u001b[39m_dataset_kind \u001b[39m==\u001b[39m _DatasetKind\u001b[39m.\u001b[39mIterable \u001b[39mand\u001b[39;00m \\\n\u001b[1;32m    636\u001b[0m         \u001b[39mself\u001b[39m\u001b[39m.\u001b[39m_IterableDataset_len_called \u001b[39mis\u001b[39;00m \u001b[39mnot\u001b[39;00m \u001b[39mNone\u001b[39;00m \u001b[39mand\u001b[39;00m \\\n\u001b[1;32m    637\u001b[0m         \u001b[39mself\u001b[39m\u001b[39m.\u001b[39m_num_yielded \u001b[39m>\u001b[39m \u001b[39mself\u001b[39m\u001b[39m.\u001b[39m_IterableDataset_len_called:\n",
      "File \u001b[0;32m~/anaconda3/envs/cafa_5/lib/python3.10/site-packages/torch/utils/data/dataloader.py:677\u001b[0m, in \u001b[0;36m_SingleProcessDataLoaderIter._next_data\u001b[0;34m(self)\u001b[0m\n\u001b[1;32m    675\u001b[0m \u001b[39mdef\u001b[39;00m \u001b[39m_next_data\u001b[39m(\u001b[39mself\u001b[39m):\n\u001b[1;32m    676\u001b[0m     index \u001b[39m=\u001b[39m \u001b[39mself\u001b[39m\u001b[39m.\u001b[39m_next_index()  \u001b[39m# may raise StopIteration\u001b[39;00m\n\u001b[0;32m--> 677\u001b[0m     data \u001b[39m=\u001b[39m \u001b[39mself\u001b[39;49m\u001b[39m.\u001b[39;49m_dataset_fetcher\u001b[39m.\u001b[39;49mfetch(index)  \u001b[39m# may raise StopIteration\u001b[39;00m\n\u001b[1;32m    678\u001b[0m     \u001b[39mif\u001b[39;00m \u001b[39mself\u001b[39m\u001b[39m.\u001b[39m_pin_memory:\n\u001b[1;32m    679\u001b[0m         data \u001b[39m=\u001b[39m _utils\u001b[39m.\u001b[39mpin_memory\u001b[39m.\u001b[39mpin_memory(data, \u001b[39mself\u001b[39m\u001b[39m.\u001b[39m_pin_memory_device)\n",
      "File \u001b[0;32m~/anaconda3/envs/cafa_5/lib/python3.10/site-packages/torch/utils/data/_utils/fetch.py:51\u001b[0m, in \u001b[0;36m_MapDatasetFetcher.fetch\u001b[0;34m(self, possibly_batched_index)\u001b[0m\n\u001b[1;32m     49\u001b[0m         data \u001b[39m=\u001b[39m \u001b[39mself\u001b[39m\u001b[39m.\u001b[39mdataset\u001b[39m.\u001b[39m__getitems__(possibly_batched_index)\n\u001b[1;32m     50\u001b[0m     \u001b[39melse\u001b[39;00m:\n\u001b[0;32m---> 51\u001b[0m         data \u001b[39m=\u001b[39m [\u001b[39mself\u001b[39m\u001b[39m.\u001b[39mdataset[idx] \u001b[39mfor\u001b[39;00m idx \u001b[39min\u001b[39;00m possibly_batched_index]\n\u001b[1;32m     52\u001b[0m \u001b[39melse\u001b[39;00m:\n\u001b[1;32m     53\u001b[0m     data \u001b[39m=\u001b[39m \u001b[39mself\u001b[39m\u001b[39m.\u001b[39mdataset[possibly_batched_index]\n",
      "File \u001b[0;32m~/anaconda3/envs/cafa_5/lib/python3.10/site-packages/torch/utils/data/_utils/fetch.py:51\u001b[0m, in \u001b[0;36m<listcomp>\u001b[0;34m(.0)\u001b[0m\n\u001b[1;32m     49\u001b[0m         data \u001b[39m=\u001b[39m \u001b[39mself\u001b[39m\u001b[39m.\u001b[39mdataset\u001b[39m.\u001b[39m__getitems__(possibly_batched_index)\n\u001b[1;32m     50\u001b[0m     \u001b[39melse\u001b[39;00m:\n\u001b[0;32m---> 51\u001b[0m         data \u001b[39m=\u001b[39m [\u001b[39mself\u001b[39;49m\u001b[39m.\u001b[39;49mdataset[idx] \u001b[39mfor\u001b[39;00m idx \u001b[39min\u001b[39;00m possibly_batched_index]\n\u001b[1;32m     52\u001b[0m \u001b[39melse\u001b[39;00m:\n\u001b[1;32m     53\u001b[0m     data \u001b[39m=\u001b[39m \u001b[39mself\u001b[39m\u001b[39m.\u001b[39mdataset[possibly_batched_index]\n",
      "File \u001b[0;32m~/anaconda3/envs/cafa_5/lib/python3.10/site-packages/torch/utils/data/dataset.py:298\u001b[0m, in \u001b[0;36mSubset.__getitem__\u001b[0;34m(self, idx)\u001b[0m\n\u001b[1;32m    296\u001b[0m \u001b[39mif\u001b[39;00m \u001b[39misinstance\u001b[39m(idx, \u001b[39mlist\u001b[39m):\n\u001b[1;32m    297\u001b[0m     \u001b[39mreturn\u001b[39;00m \u001b[39mself\u001b[39m\u001b[39m.\u001b[39mdataset[[\u001b[39mself\u001b[39m\u001b[39m.\u001b[39mindices[i] \u001b[39mfor\u001b[39;00m i \u001b[39min\u001b[39;00m idx]]\n\u001b[0;32m--> 298\u001b[0m \u001b[39mreturn\u001b[39;00m \u001b[39mself\u001b[39;49m\u001b[39m.\u001b[39;49mdataset[\u001b[39mself\u001b[39;49m\u001b[39m.\u001b[39;49mindices[idx]]\n",
      "File \u001b[0;32m~/repositories/cafa_5/cafa_5/dataset.py:103\u001b[0m, in \u001b[0;36mCAFA5Dataset.__getitem__\u001b[0;34m(self, idx)\u001b[0m\n\u001b[1;32m    101\u001b[0m \u001b[39mif\u001b[39;00m \u001b[39mself\u001b[39m\u001b[39m.\u001b[39mprots_go_codes \u001b[39mis\u001b[39;00m \u001b[39mnot\u001b[39;00m \u001b[39mNone\u001b[39;00m:\n\u001b[1;32m    102\u001b[0m     prot_go_codes \u001b[39m=\u001b[39m \u001b[39mself\u001b[39m\u001b[39m.\u001b[39mprots_go_codes[idx]\n\u001b[0;32m--> 103\u001b[0m     prot_go_codes \u001b[39m=\u001b[39m torch\u001b[39m.\u001b[39;49mtensor(\u001b[39mself\u001b[39;49m\u001b[39m.\u001b[39;49mprot_go_codes_transform\u001b[39m.\u001b[39;49mtransform([prot_go_codes]))\n\u001b[1;32m    104\u001b[0m     prot_data_dict[\u001b[39m\"\u001b[39m\u001b[39mgo_codes\u001b[39m\u001b[39m\"\u001b[39m] \u001b[39m=\u001b[39m prot_go_codes\n\u001b[1;32m    105\u001b[0m \u001b[39mreturn\u001b[39;00m prot_data_dict\n",
      "\u001b[0;31mKeyboardInterrupt\u001b[0m: "
     ]
    }
   ],
   "source": [
    "cafa_5_model = CAFA5EmbeddingsFFN(\n",
    "    n_go_codes = len(cafa_5_train_data.go_codes),\n",
    "    num_layers = 4,\n",
    "    hidden_size = 2048,\n",
    "    hidden_activation = torch.nn.ReLU(),\n",
    "    dropout = 0.1,\n",
    "    batch_normalization = True,\n",
    "    residual_connections = True\n",
    ")\n",
    "cafa_5_model.to(device)\n",
    "display(cafa_5_model)\n",
    "n_params = 0\n",
    "for params in cafa_5_model.parameters():\n",
    "    n_params += params.numel()\n",
    "print(\"# of parameters:\", n_params)\n",
    "\n",
    "if True:\n",
    "    cafa_5_model.fit(\n",
    "        cafa_5_train_data,\n",
    "        epochs=64,\n",
    "        batch_size=32,\n",
    "        collate_fn = collate_data_dict,\n",
    "        loss_fn = torch.nn.BCELoss(),\n",
    "        optimizer_type = torch.optim.Adam,\n",
    "        optimizer_kwargs = {\"amsgrad\": True},\n",
    "        validation_size = 0.1,\n",
    "        verbose = True,\n",
    "        checkpoint_save_folder_path = f\"../kaggle/weights/{4}_ffn/\"\n",
    ")"
   ]
  }
 ],
 "metadata": {
  "kernelspec": {
   "display_name": "cafa_5",
   "language": "python",
   "name": "python3"
  },
  "language_info": {
   "codemirror_mode": {
    "name": "ipython",
    "version": 3
   },
   "file_extension": ".py",
   "mimetype": "text/x-python",
   "name": "python",
   "nbconvert_exporter": "python",
   "pygments_lexer": "ipython3",
   "version": "3.10.10"
  },
  "orig_nbformat": 4
 },
 "nbformat": 4,
 "nbformat_minor": 2
}
