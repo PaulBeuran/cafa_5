{
 "cells": [
  {
   "cell_type": "code",
   "execution_count": 6,
   "metadata": {},
   "outputs": [],
   "source": [
    "import torch\n",
    "from cafa_5.dataset import CAFA5Dataset, collate_tok_mult_out_batch\n",
    "from cafa_5.transform import CharTokenizer, MultiOutputBinarizer\n",
    "from cafa_5.model import CAFA5LSTM"
   ]
  },
  {
   "cell_type": "code",
   "execution_count": 7,
   "metadata": {},
   "outputs": [],
   "source": [
    "# Load data and fit transforms\n",
    "cafa_5_train_data = CAFA5Dataset(\n",
    "    \"../kaggle/input/cafa-5-protein-function-prediction/Train/train_sequences.fasta\",\n",
    "    \"../kaggle/input/cafa-5-protein-function-prediction/Train/train_terms.tsv\",\n",
    "    \"../kaggle/input/cafa-5-protein-function-prediction/IA.txt\",\n",
    "    CharTokenizer(max_size=4096, padding=True),\n",
    "    MultiOutputBinarizer()\n",
    ")\n",
    "cafa_5_train_data.fit()"
   ]
  },
  {
   "cell_type": "code",
   "execution_count": 3,
   "metadata": {},
   "outputs": [
    {
     "name": "stderr",
     "output_type": "stream",
     "text": [
      "/home/pbeuran/anaconda3/envs/cafa_5/lib/python3.10/site-packages/torch/nn/modules/rnn.py:71: UserWarning: dropout option adds dropout after all but last recurrent layer, so non-zero dropout expects num_layers greater than 1, but got dropout=0.1 and num_layers=1\n",
      "  warnings.warn(\"dropout option adds dropout after all but last \"\n"
     ]
    },
    {
     "data": {
      "text/plain": [
       "CAFA5LSTM(\n",
       "  (embedding): Embedding(27, 1024)\n",
       "  (lstm): LSTM(1024, 1024, batch_first=True, dropout=0.1, bidirectional=True)\n",
       "  (fcnn): FCNN(\n",
       "    (hidden_activation): ReLU()\n",
       "    (output_activation): Sigmoid()\n",
       "    (mlp): Sequential(\n",
       "      (0): Linear(in_features=2048, out_features=43248, bias=True)\n",
       "      (1): Sigmoid()\n",
       "    )\n",
       "  )\n",
       ")"
      ]
     },
     "metadata": {},
     "output_type": "display_data"
    },
    {
     "name": "stderr",
     "output_type": "stream",
     "text": [
      "- Epoch: 0, Mode: train, Loss: 0.01421, F-score : 0.231301: 100%|██████████| 4001/4001 [20:28<00:00,  3.26it/s] \n",
      "- Epoch: 0, Mode: validation, Loss: 0.004371, F-score : 0.214771: 100%|██████████| 445/445 [21:33<00:00,  2.91s/it]    \n",
      "- Epoch: 1, Mode: train, Loss: 0.00423, F-score : 0.233661: 100%|██████████| 4001/4001 [20:17<00:00,  3.29it/s] \n",
      "- Epoch: 1, Mode: validation, Loss: 0.004162, F-score : 0.214771: 100%|██████████| 445/445 [21:22<00:00,  2.88s/it]    \n"
     ]
    }
   ],
   "source": [
    "# Initialize & train small LSTM\n",
    "cafa_5_small_lstm = CAFA5LSTM(\n",
    "    amino_acids_vocab = cafa_5_train_data.seq_transform.vocab,\n",
    "    go_codes_vocab = cafa_5_train_data.go_codes_ids,\n",
    "    embedding_kwargs = {\n",
    "        \"embedding_dim\": 1024,\n",
    "    },\n",
    "    lstm_kwargs = {\n",
    "        \"hidden_size\": 1024,\n",
    "        \"num_layers\": 1,\n",
    "        \"dropout\": 0.1,\n",
    "        \"bidirectional\": True\n",
    "    },\n",
    "    fcnn_kwargs = {\n",
    "        \"hidden_size\": 1024,\n",
    "        \"num_layers\": 0,\n",
    "        \"dropout\": 0.1,\n",
    "        \"hidden_activation\": torch.nn.ReLU()\n",
    "    }\n",
    ")\n",
    "cafa_5_small_lstm.to(\"cuda\")\n",
    "display(cafa_5_small_lstm)\n",
    "\n",
    "optimizer_kwargs = {\n",
    "    \"lr\": 1e0,\n",
    "    \"momentum\": 0.9,\n",
    "    \"nesterov\": True\n",
    "}\n",
    "cafa_5_small_lstm.fit(\n",
    "    cafa_5_train_data,\n",
    "    optimizer_kwargs = optimizer_kwargs,\n",
    "    epochs=2,\n",
    "    batch_size=32,\n",
    "    collate_fn = collate_tok_mult_out_batch,\n",
    "    verbose = True,\n",
    "    validation_size=0.1,\n",
    ")"
   ]
  },
  {
   "cell_type": "code",
   "execution_count": 4,
   "metadata": {},
   "outputs": [
    {
     "data": {
      "text/plain": [
       "CAFA5LSTM(\n",
       "  (embedding): Embedding(27, 1024)\n",
       "  (lstm): LSTM(1024, 1024, num_layers=2, batch_first=True, dropout=0.1, bidirectional=True)\n",
       "  (fcnn): FCNN(\n",
       "    (hidden_activation): ReLU()\n",
       "    (output_activation): Sigmoid()\n",
       "    (mlp): Sequential(\n",
       "      (0): Linear(in_features=2048, out_features=1024, bias=True)\n",
       "      (1): ReLU()\n",
       "      (2): Dropout(p=0.1, inplace=False)\n",
       "      (3): Linear(in_features=1024, out_features=43248, bias=True)\n",
       "      (4): Sigmoid()\n",
       "    )\n",
       "  )\n",
       ")"
      ]
     },
     "metadata": {},
     "output_type": "display_data"
    },
    {
     "name": "stderr",
     "output_type": "stream",
     "text": [
      "- Epoch: 0, Mode: train, Loss: 0.015615, F-score : 0.238702: 100%|██████████| 4001/4001 [32:57<00:00,  2.02it/s]  \n",
      "- Epoch: 0, Mode: validation, Loss: 0.004056, F-score : 0.252228: 100%|██████████| 445/445 [34:37<00:00,  4.67s/it]    \n",
      "- Epoch: 1, Mode: train, Loss: 0.004196, F-score : 0.239647:  95%|█████████▌| 3806/4001 [45:21<02:19,  1.40it/s]  \n"
     ]
    },
    {
     "ename": "KeyboardInterrupt",
     "evalue": "",
     "output_type": "error",
     "traceback": [
      "\u001b[0;31m---------------------------------------------------------------------------\u001b[0m",
      "\u001b[0;31mKeyboardInterrupt\u001b[0m                         Traceback (most recent call last)",
      "Cell \u001b[0;32mIn[4], line 29\u001b[0m\n\u001b[1;32m     22\u001b[0m display(cafa_5_medium_lstm)\n\u001b[1;32m     24\u001b[0m optimizer_kwargs \u001b[39m=\u001b[39m {\n\u001b[1;32m     25\u001b[0m     \u001b[39m\"\u001b[39m\u001b[39mlr\u001b[39m\u001b[39m\"\u001b[39m: \u001b[39m1e0\u001b[39m,\n\u001b[1;32m     26\u001b[0m     \u001b[39m\"\u001b[39m\u001b[39mmomentum\u001b[39m\u001b[39m\"\u001b[39m: \u001b[39m0.9\u001b[39m,\n\u001b[1;32m     27\u001b[0m     \u001b[39m\"\u001b[39m\u001b[39mnesterov\u001b[39m\u001b[39m\"\u001b[39m: \u001b[39mTrue\u001b[39;00m\n\u001b[1;32m     28\u001b[0m }\n\u001b[0;32m---> 29\u001b[0m cafa_5_medium_lstm\u001b[39m.\u001b[39;49mfit(\n\u001b[1;32m     30\u001b[0m     cafa_5_train_data,\n\u001b[1;32m     31\u001b[0m     optimizer_kwargs \u001b[39m=\u001b[39;49m optimizer_kwargs,\n\u001b[1;32m     32\u001b[0m     epochs\u001b[39m=\u001b[39;49m\u001b[39m4\u001b[39;49m,\n\u001b[1;32m     33\u001b[0m     batch_size\u001b[39m=\u001b[39;49m\u001b[39m32\u001b[39;49m,\n\u001b[1;32m     34\u001b[0m     collate_fn \u001b[39m=\u001b[39;49m collate_tok_mult_out_batch,\n\u001b[1;32m     35\u001b[0m     verbose \u001b[39m=\u001b[39;49m \u001b[39mTrue\u001b[39;49;00m,\n\u001b[1;32m     36\u001b[0m     validation_size\u001b[39m=\u001b[39;49m\u001b[39m0.1\u001b[39;49m,\n\u001b[1;32m     37\u001b[0m )\n",
      "File \u001b[0;32m~/repositories/cafa_5/cafa_5/model.py:160\u001b[0m, in \u001b[0;36mTorchCAFA5Model.fit\u001b[0;34m(self, train_cafa_5_dataset, epochs, batch_size, collate_fn, loss_fn, loss_kwargs, optimizer_type, optimizer_kwargs, validation_size, verbose)\u001b[0m\n\u001b[1;32m    158\u001b[0m \u001b[39m# Compute loss and backpropagate loss gradient for each parameters\u001b[39;00m\n\u001b[1;32m    159\u001b[0m loss \u001b[39m=\u001b[39m loss_fn(go_codes_probs_batch, data_batch[\u001b[39m\"\u001b[39m\u001b[39mgo_codes\u001b[39m\u001b[39m\"\u001b[39m]\u001b[39m.\u001b[39mfloat(), \u001b[39m*\u001b[39m\u001b[39m*\u001b[39mloss_kwargs_)\n\u001b[0;32m--> 160\u001b[0m loss\u001b[39m.\u001b[39;49mbackward()\n\u001b[1;32m    162\u001b[0m \u001b[39m# Optimize the parameters according to the gradient and the optimizer\u001b[39;00m\n\u001b[1;32m    163\u001b[0m optimizer\u001b[39m.\u001b[39mstep()\n",
      "File \u001b[0;32m~/anaconda3/envs/cafa_5/lib/python3.10/site-packages/torch/_tensor.py:487\u001b[0m, in \u001b[0;36mTensor.backward\u001b[0;34m(self, gradient, retain_graph, create_graph, inputs)\u001b[0m\n\u001b[1;32m    477\u001b[0m \u001b[39mif\u001b[39;00m has_torch_function_unary(\u001b[39mself\u001b[39m):\n\u001b[1;32m    478\u001b[0m     \u001b[39mreturn\u001b[39;00m handle_torch_function(\n\u001b[1;32m    479\u001b[0m         Tensor\u001b[39m.\u001b[39mbackward,\n\u001b[1;32m    480\u001b[0m         (\u001b[39mself\u001b[39m,),\n\u001b[0;32m   (...)\u001b[0m\n\u001b[1;32m    485\u001b[0m         inputs\u001b[39m=\u001b[39minputs,\n\u001b[1;32m    486\u001b[0m     )\n\u001b[0;32m--> 487\u001b[0m torch\u001b[39m.\u001b[39;49mautograd\u001b[39m.\u001b[39;49mbackward(\n\u001b[1;32m    488\u001b[0m     \u001b[39mself\u001b[39;49m, gradient, retain_graph, create_graph, inputs\u001b[39m=\u001b[39;49minputs\n\u001b[1;32m    489\u001b[0m )\n",
      "File \u001b[0;32m~/anaconda3/envs/cafa_5/lib/python3.10/site-packages/torch/autograd/__init__.py:200\u001b[0m, in \u001b[0;36mbackward\u001b[0;34m(tensors, grad_tensors, retain_graph, create_graph, grad_variables, inputs)\u001b[0m\n\u001b[1;32m    195\u001b[0m     retain_graph \u001b[39m=\u001b[39m create_graph\n\u001b[1;32m    197\u001b[0m \u001b[39m# The reason we repeat same the comment below is that\u001b[39;00m\n\u001b[1;32m    198\u001b[0m \u001b[39m# some Python versions print out the first line of a multi-line function\u001b[39;00m\n\u001b[1;32m    199\u001b[0m \u001b[39m# calls in the traceback and some print out the last line\u001b[39;00m\n\u001b[0;32m--> 200\u001b[0m Variable\u001b[39m.\u001b[39;49m_execution_engine\u001b[39m.\u001b[39;49mrun_backward(  \u001b[39m# Calls into the C++ engine to run the backward pass\u001b[39;49;00m\n\u001b[1;32m    201\u001b[0m     tensors, grad_tensors_, retain_graph, create_graph, inputs,\n\u001b[1;32m    202\u001b[0m     allow_unreachable\u001b[39m=\u001b[39;49m\u001b[39mTrue\u001b[39;49;00m, accumulate_grad\u001b[39m=\u001b[39;49m\u001b[39mTrue\u001b[39;49;00m)\n",
      "\u001b[0;31mKeyboardInterrupt\u001b[0m: "
     ]
    }
   ],
   "source": [
    "# Initialize & train medium LSTM\n",
    "cafa_5_medium_lstm = CAFA5LSTM(\n",
    "    amino_acids_vocab = cafa_5_train_data.seq_transform.vocab,\n",
    "    go_codes_vocab = cafa_5_train_data.go_codes_ids,\n",
    "    embedding_kwargs = {\n",
    "        \"embedding_dim\": 1024,\n",
    "    },\n",
    "    lstm_kwargs = {\n",
    "        \"hidden_size\": 1024,\n",
    "        \"num_layers\": 2,\n",
    "        \"dropout\": 0.1,\n",
    "        \"bidirectional\": True\n",
    "    },\n",
    "    fcnn_kwargs = {\n",
    "        \"hidden_size\": 1024,\n",
    "        \"num_layers\": 1,\n",
    "        \"dropout\": 0.1,\n",
    "        \"hidden_activation\": torch.nn.ReLU()\n",
    "    }\n",
    ")\n",
    "cafa_5_medium_lstm.to(\"cuda\")\n",
    "display(cafa_5_medium_lstm)\n",
    "\n",
    "optimizer_kwargs = {\n",
    "    \"lr\": 1e0,\n",
    "    \"momentum\": 0.9,\n",
    "    \"nesterov\": True\n",
    "}\n",
    "cafa_5_medium_lstm.fit(\n",
    "    cafa_5_train_data,\n",
    "    optimizer_kwargs = optimizer_kwargs,\n",
    "    epochs=4,\n",
    "    batch_size=32,\n",
    "    collate_fn = collate_tok_mult_out_batch,\n",
    "    verbose = True,\n",
    "    validation_size=0.1,\n",
    ")"
   ]
  },
  {
   "cell_type": "code",
   "execution_count": 3,
   "metadata": {},
   "outputs": [
    {
     "data": {
      "text/plain": [
       "CAFA5LSTM(\n",
       "  (embedding): Embedding(27, 1024)\n",
       "  (lstm): LSTM(1024, 1024, num_layers=3, batch_first=True, dropout=0.1, bidirectional=True)\n",
       "  (fcnn): FCNN(\n",
       "    (hidden_activation): ReLU()\n",
       "    (output_activation): Sigmoid()\n",
       "    (mlp): Sequential(\n",
       "      (0): Linear(in_features=2048, out_features=1024, bias=True)\n",
       "      (1): ReLU()\n",
       "      (2): Dropout(p=0.1, inplace=False)\n",
       "      (3): Linear(in_features=1024, out_features=1024, bias=True)\n",
       "      (4): ReLU()\n",
       "      (5): Dropout(p=0.1, inplace=False)\n",
       "      (6): Linear(in_features=1024, out_features=43248, bias=True)\n",
       "      (7): Sigmoid()\n",
       "    )\n",
       "  )\n",
       ")"
      ]
     },
     "metadata": {},
     "output_type": "display_data"
    },
    {
     "name": "stderr",
     "output_type": "stream",
     "text": [
      "- Epoch: 0, Mode: train, Loss: 0.026346, F-score : 0.232949:  77%|███████▋  | 3077/4001 [57:58<17:24,  1.13s/it]  \n"
     ]
    },
    {
     "ename": "KeyboardInterrupt",
     "evalue": "",
     "output_type": "error",
     "traceback": [
      "\u001b[0;31m---------------------------------------------------------------------------\u001b[0m",
      "\u001b[0;31mKeyboardInterrupt\u001b[0m                         Traceback (most recent call last)",
      "Cell \u001b[0;32mIn[3], line 29\u001b[0m\n\u001b[1;32m     22\u001b[0m display(cafa_5_large_lstm)\n\u001b[1;32m     24\u001b[0m optimizer_kwargs \u001b[39m=\u001b[39m {\n\u001b[1;32m     25\u001b[0m     \u001b[39m\"\u001b[39m\u001b[39mlr\u001b[39m\u001b[39m\"\u001b[39m: \u001b[39m1e0\u001b[39m,\n\u001b[1;32m     26\u001b[0m     \u001b[39m\"\u001b[39m\u001b[39mmomentum\u001b[39m\u001b[39m\"\u001b[39m: \u001b[39m0.9\u001b[39m,\n\u001b[1;32m     27\u001b[0m     \u001b[39m\"\u001b[39m\u001b[39mnesterov\u001b[39m\u001b[39m\"\u001b[39m: \u001b[39mTrue\u001b[39;00m\n\u001b[1;32m     28\u001b[0m }\n\u001b[0;32m---> 29\u001b[0m cafa_5_large_lstm\u001b[39m.\u001b[39;49mfit(\n\u001b[1;32m     30\u001b[0m     cafa_5_train_data,\n\u001b[1;32m     31\u001b[0m     optimizer_kwargs \u001b[39m=\u001b[39;49m optimizer_kwargs,\n\u001b[1;32m     32\u001b[0m     epochs\u001b[39m=\u001b[39;49m\u001b[39m2\u001b[39;49m,\n\u001b[1;32m     33\u001b[0m     batch_size\u001b[39m=\u001b[39;49m\u001b[39m32\u001b[39;49m,\n\u001b[1;32m     34\u001b[0m     collate_fn \u001b[39m=\u001b[39;49m collate_tok_mult_out_batch,\n\u001b[1;32m     35\u001b[0m     verbose \u001b[39m=\u001b[39;49m \u001b[39mTrue\u001b[39;49;00m,\n\u001b[1;32m     36\u001b[0m     validation_size\u001b[39m=\u001b[39;49m\u001b[39m0.1\u001b[39;49m,\n\u001b[1;32m     37\u001b[0m )\n",
      "File \u001b[0;32m~/repositories/cafa_5/cafa_5/model.py:160\u001b[0m, in \u001b[0;36mTorchCAFA5Model.fit\u001b[0;34m(self, train_cafa_5_dataset, epochs, batch_size, collate_fn, loss_fn, loss_kwargs, optimizer_type, optimizer_kwargs, validation_size, verbose)\u001b[0m\n\u001b[1;32m    158\u001b[0m \u001b[39m# Compute loss and backpropagate loss gradient for each parameters\u001b[39;00m\n\u001b[1;32m    159\u001b[0m loss \u001b[39m=\u001b[39m loss_fn(go_codes_probs_batch, data_batch[\u001b[39m\"\u001b[39m\u001b[39mgo_codes\u001b[39m\u001b[39m\"\u001b[39m]\u001b[39m.\u001b[39mfloat(), \u001b[39m*\u001b[39m\u001b[39m*\u001b[39mloss_kwargs_)\n\u001b[0;32m--> 160\u001b[0m loss\u001b[39m.\u001b[39;49mbackward()\n\u001b[1;32m    162\u001b[0m \u001b[39m# Optimize the parameters according to the gradient and the optimizer\u001b[39;00m\n\u001b[1;32m    163\u001b[0m optimizer\u001b[39m.\u001b[39mstep()\n",
      "File \u001b[0;32m~/anaconda3/envs/cafa_5/lib/python3.10/site-packages/torch/_tensor.py:487\u001b[0m, in \u001b[0;36mTensor.backward\u001b[0;34m(self, gradient, retain_graph, create_graph, inputs)\u001b[0m\n\u001b[1;32m    477\u001b[0m \u001b[39mif\u001b[39;00m has_torch_function_unary(\u001b[39mself\u001b[39m):\n\u001b[1;32m    478\u001b[0m     \u001b[39mreturn\u001b[39;00m handle_torch_function(\n\u001b[1;32m    479\u001b[0m         Tensor\u001b[39m.\u001b[39mbackward,\n\u001b[1;32m    480\u001b[0m         (\u001b[39mself\u001b[39m,),\n\u001b[0;32m   (...)\u001b[0m\n\u001b[1;32m    485\u001b[0m         inputs\u001b[39m=\u001b[39minputs,\n\u001b[1;32m    486\u001b[0m     )\n\u001b[0;32m--> 487\u001b[0m torch\u001b[39m.\u001b[39;49mautograd\u001b[39m.\u001b[39;49mbackward(\n\u001b[1;32m    488\u001b[0m     \u001b[39mself\u001b[39;49m, gradient, retain_graph, create_graph, inputs\u001b[39m=\u001b[39;49minputs\n\u001b[1;32m    489\u001b[0m )\n",
      "File \u001b[0;32m~/anaconda3/envs/cafa_5/lib/python3.10/site-packages/torch/autograd/__init__.py:200\u001b[0m, in \u001b[0;36mbackward\u001b[0;34m(tensors, grad_tensors, retain_graph, create_graph, grad_variables, inputs)\u001b[0m\n\u001b[1;32m    195\u001b[0m     retain_graph \u001b[39m=\u001b[39m create_graph\n\u001b[1;32m    197\u001b[0m \u001b[39m# The reason we repeat same the comment below is that\u001b[39;00m\n\u001b[1;32m    198\u001b[0m \u001b[39m# some Python versions print out the first line of a multi-line function\u001b[39;00m\n\u001b[1;32m    199\u001b[0m \u001b[39m# calls in the traceback and some print out the last line\u001b[39;00m\n\u001b[0;32m--> 200\u001b[0m Variable\u001b[39m.\u001b[39;49m_execution_engine\u001b[39m.\u001b[39;49mrun_backward(  \u001b[39m# Calls into the C++ engine to run the backward pass\u001b[39;49;00m\n\u001b[1;32m    201\u001b[0m     tensors, grad_tensors_, retain_graph, create_graph, inputs,\n\u001b[1;32m    202\u001b[0m     allow_unreachable\u001b[39m=\u001b[39;49m\u001b[39mTrue\u001b[39;49;00m, accumulate_grad\u001b[39m=\u001b[39;49m\u001b[39mTrue\u001b[39;49;00m)\n",
      "\u001b[0;31mKeyboardInterrupt\u001b[0m: "
     ]
    }
   ],
   "source": [
    "# Initialize & train large LSTM\n",
    "cafa_5_large_lstm = CAFA5LSTM(\n",
    "    amino_acids_vocab = cafa_5_train_data.seq_transform.vocab,\n",
    "    go_codes_vocab = cafa_5_train_data.go_codes_ids,\n",
    "    embedding_kwargs = {\n",
    "        \"embedding_dim\": 1024,\n",
    "    },\n",
    "    lstm_kwargs = {\n",
    "        \"hidden_size\": 1024,\n",
    "        \"num_layers\": 3,\n",
    "        \"dropout\": 0.1,\n",
    "        \"bidirectional\": True\n",
    "    },\n",
    "    fcnn_kwargs = {\n",
    "        \"hidden_size\": 1024,\n",
    "        \"num_layers\": 2,\n",
    "        \"dropout\": 0.1,\n",
    "        \"hidden_activation\": torch.nn.ReLU()\n",
    "    }\n",
    ")\n",
    "cafa_5_large_lstm.to(\"cuda\")\n",
    "display(cafa_5_large_lstm)\n",
    "\n",
    "optimizer_kwargs = {\n",
    "    \"lr\": 1e0,\n",
    "    \"momentum\": 0.9,\n",
    "    \"nesterov\": True\n",
    "}\n",
    "cafa_5_large_lstm.fit(\n",
    "    cafa_5_train_data,\n",
    "    optimizer_kwargs = optimizer_kwargs,\n",
    "    epochs=2,\n",
    "    batch_size=32,\n",
    "    collate_fn = collate_tok_mult_out_batch,\n",
    "    verbose = True,\n",
    "    validation_size=0.1,\n",
    ")"
   ]
  }
 ],
 "metadata": {
  "kernelspec": {
   "display_name": "cafa_5",
   "language": "python",
   "name": "python3"
  },
  "language_info": {
   "codemirror_mode": {
    "name": "ipython",
    "version": 3
   },
   "file_extension": ".py",
   "mimetype": "text/x-python",
   "name": "python",
   "nbconvert_exporter": "python",
   "pygments_lexer": "ipython3",
   "version": "3.10.10"
  },
  "orig_nbformat": 4
 },
 "nbformat": 4,
 "nbformat_minor": 2
}
