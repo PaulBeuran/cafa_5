{
 "cells": [
  {
   "cell_type": "code",
<<<<<<< HEAD
   "execution_count": 1,
=======
   "execution_count": null,
>>>>>>> 0c2ca21 (Cleaned sandbox)
   "metadata": {
    "tags": []
   },
   "outputs": [],
   "source": [
    "import torch\n",
    "\n",
    "from cafa_5.dataset import CAFA5Dataset, collate_tok_mult_out_batch\n",
    "from cafa_5.transform import CharTokenizer, MultiOutputBinarizer\n",
    "from cafa_5.metrics import weighted_f_score\n",
    "from cafa_5.model import CAFA5LSTM"
   ]
  },
  {
   "cell_type": "code",
<<<<<<< HEAD
   "execution_count": 2,
=======
   "execution_count": null,
>>>>>>> 0c2ca21 (Cleaned sandbox)
   "metadata": {
    "tags": []
   },
   "outputs": [],
   "source": [
    "# Load data and fit transforms\n",
    "cafa_5_train_data = CAFA5Dataset(\n",
    "    \"../kaggle/input/cafa-5-protein-function-prediction/Train/train_sequences.fasta\",\n",
    "    \"../kaggle/input/cafa-5-protein-function-prediction/Train/train_terms.tsv\",\n",
    "    \"../kaggle/input/cafa-5-protein-function-prediction/IA.txt\",\n",
    "    CharTokenizer(max_size=4096),\n",
    "    MultiOutputBinarizer()\n",
    ")\n",
    "cafa_5_train_data.fit()"
   ]
  },
  {
   "cell_type": "code",
<<<<<<< HEAD
   "execution_count": 3,
   "metadata": {
    "tags": []
   },
   "outputs": [
    {
     "name": "stderr",
     "output_type": "stream",
     "text": [
      "/home/pbeuran/anaconda3/envs/cafa_5/lib/python3.10/site-packages/torch/nn/modules/rnn.py:71: UserWarning: dropout option adds dropout after all but last recurrent layer, so non-zero dropout expects num_layers greater than 1, but got dropout=0.1 and num_layers=1\n",
      "  warnings.warn(\"dropout option adds dropout after all but last \"\n"
     ]
    },
    {
     "data": {
      "text/plain": [
       "CAFA5LSTM(\n",
       "  (embedding): Embedding(27, 1024)\n",
       "  (lstm): LSTM(1024, 1024, batch_first=True, dropout=0.1, bidirectional=True)\n",
       "  (fcnn): FCNN(\n",
       "    (hidden_activation): ReLU()\n",
       "    (output_activation): Sigmoid()\n",
       "    (mlp): Sequential(\n",
       "      (0): Linear(in_features=2048, out_features=43248, bias=True)\n",
       "      (1): Sigmoid()\n",
       "    )\n",
       "  )\n",
       ")"
      ]
     },
     "metadata": {},
     "output_type": "display_data"
    },
    {
     "name": "stderr",
     "output_type": "stream",
     "text": [
      "- Epoch: 0, Mode: train, Loss: 0.068679, F-score : 0.220563: 100%|██████████| 4001/4001 [18:43<00:00,  3.56it/s]\n",
      "- Epoch: 0, Mode: validation, Loss: 0.009344, F-score : 0.21479: 100%|██████████| 445/445 [19:49<00:00,  2.67s/it]     \n",
      "- Epoch: 1, Mode: train, Loss: 0.007781, F-score : 0.23109:  74%|███████▎  | 2950/4001 [14:15<05:52,  2.98it/s] "
     ]
    }
   ],
=======
   "execution_count": null,
   "metadata": {
    "tags": []
   },
   "outputs": [],
>>>>>>> 0c2ca21 (Cleaned sandbox)
   "source": [
    "# Initialize & train small LSTM\n",
    "cafa_5_small_lstm = CAFA5LSTM(\n",
    "    amino_acids_vocab = cafa_5_train_data.seq_transform.vocab,\n",
    "    go_codes_vocab = cafa_5_train_data.go_codes_ids,\n",
    "    embedding_kwargs = {\n",
    "        \"embedding_dim\": 1024,\n",
    "    },\n",
    "    lstm_kwargs = {\n",
    "        \"hidden_size\": 1024,\n",
    "        \"num_layers\": 1,\n",
    "        \"dropout\": 0.1,\n",
    "        \"bidirectional\": True\n",
    "    },\n",
    "    fcnn_kwargs = {\n",
    "        \"hidden_size\": 1024,\n",
    "        \"num_layers\": 0,\n",
    "        \"dropout\": 0.1,\n",
    "        \"hidden_activation\": torch.nn.ReLU()\n",
    "    }\n",
    ")\n",
    "cafa_5_small_lstm.to(\"cuda\")\n",
    "display(cafa_5_small_lstm)\n",
    "\n",
    "cafa_5_small_lstm.fit(\n",
    "    cafa_5_train_data,\n",
    "    optimizer_kwargs = {\"lr\": 1e0},\n",
    "    epochs=3,\n",
    "    batch_size=32,\n",
    "    collate_fn = collate_tok_mult_out_batch,\n",
    "    verbose = True,\n",
    "    validation_size=0.1\n",
    ")"
   ]
  },
  {
   "cell_type": "code",
   "execution_count": null,
   "metadata": {},
   "outputs": [],
   "source": [
    "# Initialize & train medium LSTM\n",
    "cafa_5_medium_lstm = CAFA5LSTM(\n",
    "    amino_acids_vocab = cafa_5_train_data.seq_transform.vocab,\n",
    "    go_codes_vocab = cafa_5_train_data.go_codes_ids,\n",
    "    embedding_kwargs = {\n",
    "        \"embedding_dim\": 1024,\n",
    "    },\n",
    "    lstm_kwargs = {\n",
    "        \"hidden_size\": 1024,\n",
    "        \"num_layers\": 2,\n",
    "        \"dropout\": 0.1,\n",
    "        \"bidirectional\": True\n",
    "    },\n",
    "    fcnn_kwargs = {\n",
    "        \"hidden_size\": 1024,\n",
    "        \"num_layers\": 1,\n",
    "        \"dropout\": 0.1,\n",
    "        \"hidden_activation\": torch.nn.ReLU()\n",
    "    }\n",
    ")\n",
    "cafa_5_medium_lstm.to(\"cuda\")\n",
    "display(cafa_5_medium_lstm)\n",
    "\n",
    "cafa_5_medium_lstm.fit(\n",
    "    cafa_5_train_data,\n",
    "    optimizer_kwargs = {\"lr\": 1e0},\n",
    "    epochs=3,\n",
    "    batch_size=32,\n",
    "    collate_fn = collate_tok_mult_out_batch,\n",
    "    verbose = True,\n",
    "    validation_size=0.1\n",
    ")"
   ]
  },
  {
   "cell_type": "code",
   "execution_count": null,
   "metadata": {},
   "outputs": [],
   "source": [
    "# Initialize & train big LSTM\n",
    "cafa_5_big_lstm = CAFA5LSTM(\n",
    "    amino_acids_vocab = cafa_5_train_data.seq_transform.vocab,\n",
    "    go_codes_vocab = cafa_5_train_data.go_codes_ids,\n",
    "    embedding_kwargs = {\n",
    "        \"embedding_dim\": 1024,\n",
    "    },\n",
    "    lstm_kwargs = {\n",
    "        \"hidden_size\": 1024,\n",
    "        \"num_layers\": 3,\n",
    "        \"dropout\": 0.1,\n",
    "        \"bidirectional\": True\n",
    "    },\n",
    "    fcnn_kwargs = {\n",
    "        \"hidden_size\": 1024,\n",
    "        \"num_layers\": 2,\n",
    "        \"dropout\": 0.1,\n",
    "        \"hidden_activation\": torch.nn.ReLU()\n",
    "    }\n",
    ")\n",
    "cafa_5_big_lstm.to(\"cuda\")\n",
    "display(cafa_5_big_lstm)\n",
    "\n",
    "cafa_5_big_lstm.fit(\n",
    "    cafa_5_train_data,\n",
    "    optimizer_kwargs = {\"lr\": 1e0},\n",
    "    epochs=3,\n",
    "    batch_size=32,\n",
    "    collate_fn = collate_tok_mult_out_batch,\n",
    "    verbose = True,\n",
    "    validation_size=0.1\n",
    ")"
   ]
  },
  {
   "cell_type": "code",
   "execution_count": null,
   "metadata": {},
   "outputs": [],
   "source": []
  }
 ],
 "metadata": {
  "kernelspec": {
   "display_name": "Python 3 (ipykernel)",
   "language": "python",
   "name": "python3"
  },
  "language_info": {
   "codemirror_mode": {
    "name": "ipython",
    "version": 3
   },
   "file_extension": ".py",
   "mimetype": "text/x-python",
   "name": "python",
   "nbconvert_exporter": "python",
   "pygments_lexer": "ipython3",
   "version": "3.10.10"
  }
 },
 "nbformat": 4,
 "nbformat_minor": 4
}
