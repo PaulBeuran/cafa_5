{
 "cells": [
  {
   "cell_type": "code",
   "execution_count": 3,
   "metadata": {},
   "outputs": [],
   "source": [
    "import pandas as pd\n",
    "import torch\n",
    "\n",
    "from cafa_5.dataset import CAFA5Dataset, collate_data_dict\n",
    "from cafa_5.model import CAFA5EmbeddingsFFN\n",
    "\n",
    "device = \"cuda\" if torch.cuda.is_available() and True else \"cpu\""
   ]
  },
  {
   "cell_type": "code",
   "execution_count": 2,
   "metadata": {},
   "outputs": [],
   "source": [
    "cafa_5_test_set = CAFA5Dataset(\n",
    "    prots_amino_acids_fasta_path = \"../kaggle/input/cafa-5-protein-function-prediction/Test (Targets)/testsuperset.fasta\",\n",
    "    go_codes_info_accr_weights_txt_path = \"../kaggle/input/cafa-5-protein-function-prediction/IA.txt\",\n",
    "    go_code_graph_obo_path = \"../kaggle/input/cafa-5-protein-function-prediction/Train/go-basic.obo\",\n",
    "    prots_t5_embeds_npy_path = \"../kaggle/input/t5embeds/test_embeds.npy\",\n",
    "    prots_protbert_embeds_npy_path = \"../kaggle/input/protbert-embeddings-for-cafa5/test_embeddings.npy\",\n",
    "    prots_esm2_embeds_npy_path = \"../kaggle/input/4637427/test_embeds_esm2_t36_3B_UR50D.npy\"    \n",
    ")"
   ]
  },
  {
   "cell_type": "code",
   "execution_count": 3,
   "metadata": {},
   "outputs": [
    {
     "data": {
      "text/plain": [
       "CAFA5EmbeddingsFFN(\n",
       "  (ffn): FFN(\n",
       "    (hidden_activation): ReLU()\n",
       "    (output_activation): Sigmoid()\n",
       "    (ffn): ModuleDict(\n",
       "      (linear_0): Linear(in_features=4608, out_features=2048, bias=True)\n",
       "      (batch_norm_0): BatchNorm1d(2048, eps=1e-05, momentum=0.1, affine=True, track_running_stats=True)\n",
       "      (activation_0): ReLU()\n",
       "      (dropout_0): Dropout(p=0.1, inplace=False)\n",
       "      (linear_1): Linear(in_features=2048, out_features=2048, bias=True)\n",
       "      (batch_norm_1): BatchNorm1d(2048, eps=1e-05, momentum=0.1, affine=True, track_running_stats=True)\n",
       "      (activation_1): ReLU()\n",
       "      (dropout_1): Dropout(p=0.1, inplace=False)\n",
       "      (linear_2): Linear(in_features=2048, out_features=2048, bias=True)\n",
       "      (batch_norm_2): BatchNorm1d(2048, eps=1e-05, momentum=0.1, affine=True, track_running_stats=True)\n",
       "      (activation_2): ReLU()\n",
       "      (dropout_2): Dropout(p=0.1, inplace=False)\n",
       "      (linear_3): Linear(in_features=2048, out_features=2048, bias=True)\n",
       "      (batch_norm_3): BatchNorm1d(2048, eps=1e-05, momentum=0.1, affine=True, track_running_stats=True)\n",
       "      (activation_3): ReLU()\n",
       "      (dropout_3): Dropout(p=0.1, inplace=False)\n",
       "      (linear_4): Linear(in_features=2048, out_features=43248, bias=True)\n",
       "      (activation_4): Sigmoid()\n",
       "    )\n",
       "    (bn): BatchNorm1d(4608, eps=1e-05, momentum=0.1, affine=True, track_running_stats=True)\n",
       "  )\n",
       ")"
      ]
     },
     "metadata": {},
     "output_type": "display_data"
    },
    {
     "name": "stdout",
     "output_type": "stream",
     "text": [
      "# of parameters: 110669040\n"
     ]
    }
   ],
   "source": [
    "cafa_5_model = CAFA5EmbeddingsFFN(\n",
    "    n_go_codes = len(cafa_5_test_set.go_codes),\n",
    "    num_layers = 4,\n",
    "    hidden_size = 2048,\n",
    "    hidden_activation = torch.nn.ReLU(),\n",
    "    dropout = 0.1,\n",
    "    batch_normalization = True,\n",
    "    residual_connections = True\n",
    ")\n",
    "cafa_5_model.to(device)\n",
    "display(cafa_5_model)\n",
    "n_params = 0\n",
    "for params in cafa_5_model.parameters():\n",
    "    n_params += params.numel()\n",
    "print(\"# of parameters:\", n_params)"
   ]
  },
  {
   "cell_type": "code",
   "execution_count": 4,
   "metadata": {},
   "outputs": [
    {
     "name": "stderr",
     "output_type": "stream",
     "text": [
      "100%|██████████| 4434/4434 [04:19<00:00, 17.11it/s]\n"
     ]
    }
   ],
   "source": [
    "cafa_5_model.load_state_dict(torch.load(\"../kaggle/weights/4_ffn/weights_61.pt\")[\"state_dict\"])\n",
    "cafa_5_model.predict_proba(\n",
    "    cafa_5_test_set,\n",
    "    batch_size = 32,\n",
    "    collate_fn = collate_data_dict,\n",
    "    verbose = True,\n",
    ")"
   ]
  },
  {
   "cell_type": "code",
   "execution_count": 65,
   "metadata": {},
   "outputs": [],
   "source": [
    "prot_t5_bert_esm2_submission_df = pd.read_csv(\"submission.tsv\", sep = \"\\t\")\n",
    "prot_t5_bert_esm2_submission_df.columns = (prot_t5_bert_esm2_submission_df.columns[0:-1].tolist() + \n",
    "                                           [\"Prediction (T5/BERT/ESM2)\"])\n",
    "\n",
    "sub_total_submission_df = pd.read_csv(\"../kaggle/input/best_submissions/submission.tsv\", sep=\"\\t\", header = None)\n",
    "sub_total_submission_df.columns = (prot_t5_bert_esm2_submission_df.columns[0:-1].tolist() + \n",
    "                                           [\"Prediction (Total)\"])\n",
    "sub_total_submission_df.loc[sub_total_submission_df[\"Prediction (Total)\"] > 1, \"Prediction (Total)\"] = 1 \n",
    "\n",
    "total_submission_df = sub_total_submission_df.merge(\n",
    "    prot_t5_bert_esm2_submission_df, on = [\"Protein Id\", \"GO Term Id\"], how = \"outer\"\n",
    ")\n",
    "\n",
    "total_submission_df[\"Prediction\"] = (total_submission_df[\"Prediction (T5/BERT/ESM2)\"].fillna(0) + total_submission_df[\"Prediction (Total)\"].fillna(0))/2.\n",
    "total_submission_df.drop_duplicates([\"Protein Id\", \"GO Term Id\"], inplace = True)\n",
    "\n",
    "total_submission_df[[\"Protein Id\", \"GO Term Id\", \"Prediction\"]].to_csv(\"../kaggle/input/total-submission/submission2.tsv\", header = False, index = False, sep = \"\\t\")"
   ]
  },
  {
   "cell_type": "code",
   "execution_count": null,
   "metadata": {},
   "outputs": [],
   "source": [
    "prot_t5_bert_esm2_submission_df = pd.read_csv(\"submission.tsv\", sep = \"\\t\")\n",
    "prot_t5_bert_esm2_submission_df.columns = (prot_t5_bert_esm2_submission_df.columns[0:-1].tolist() + \n",
    "                                           [\"Prediction (T5/BERT/ESM2)\"])\n",
    "\n",
    "sub_total_submission_df = pd.read_csv(\"../kaggle/input/best_submissions/submission.tsv\", sep=\"\\t\", header = None)\n",
    "sub_total_submission_df.columns = (prot_t5_bert_esm2_submission_df.columns[0:-1].tolist() + \n",
    "                                           [\"Prediction (Total)\"])\n",
    "sub_total_submission_df.loc[sub_total_submission_df[\"Prediction (Total)\"] > 1, \"Prediction (Total)\"] = 1 \n",
    "\n",
    "total_submission_df = sub_total_submission_df.merge(\n",
    "    prot_t5_bert_esm2_submission_df, on = [\"Protein Id\", \"GO Term Id\"], how = \"outer\"\n",
    ")\n",
    "\n",
    "total_submission_df[\"Prediction\"] = 0.4*total_submission_df[\"Prediction (T5/BERT/ESM2)\"].fillna(0) + 0.6*total_submission_df[\"Prediction (Total)\"].fillna(0)\n",
    "total_submission_df.drop_duplicates([\"Protein Id\", \"GO Term Id\"], inplace = True)\n",
    "\n",
    "total_submission_df[[\"Protein Id\", \"GO Term Id\", \"Prediction\"]].to_csv(\"../kaggle/input/total-submission/submission3.tsv\", header = False, index = False, sep = \"\\t\")"
   ]
  },
  {
   "cell_type": "code",
   "execution_count": 1,
   "metadata": {},
   "outputs": [],
   "source": [
    "w1 = 0.38\n",
    "w2 = 0.56\n",
    "z = w1 + w2\n",
    "n_w1 = w1/z\n",
    "n_w2 = w2/z"
   ]
  },
  {
   "cell_type": "code",
   "execution_count": 2,
   "metadata": {},
   "outputs": [
    {
     "data": {
      "text/plain": [
       "(0.40425531914893614, 0.5957446808510638)"
      ]
     },
     "execution_count": 2,
     "metadata": {},
     "output_type": "execute_result"
    }
   ],
   "source": [
    "n_w1, n_w2"
   ]
  },
  {
   "cell_type": "code",
   "execution_count": null,
   "metadata": {},
   "outputs": [],
   "source": []
  }
 ],
 "metadata": {
  "kernelspec": {
   "display_name": "cafa_5",
   "language": "python",
   "name": "python3"
  },
  "language_info": {
   "codemirror_mode": {
    "name": "ipython",
    "version": 3
   },
   "file_extension": ".py",
   "mimetype": "text/x-python",
   "name": "python",
   "nbconvert_exporter": "python",
   "pygments_lexer": "ipython3",
   "version": "3.10.10"
  },
  "orig_nbformat": 4
 },
 "nbformat": 4,
 "nbformat_minor": 2
}
